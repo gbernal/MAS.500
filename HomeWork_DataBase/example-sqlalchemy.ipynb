{
 "cells": [
  {
   "cell_type": "markdown",
   "metadata": {},
   "source": [
    "Using SQLAlchemy to Talk to a Database\n",
    "=====================\n",
    "SqlAlchemy helps you use a database to store and retrieve information from python.  It abstracts the specific storage engine from te way you use it - so it doesn't care if you end up using MySQL, SQLite, or whatever else. In addition, you can use core and the object-relational mapper (ORM) to avoid writing any SQL at all.  The [SQLAlchemy homepage](http://www.sqlalchemy.org/) has lots of good examples and full documentation."
   ]
  },
  {
   "cell_type": "code",
   "execution_count": 71,
   "metadata": {
    "collapsed": false
   },
   "outputs": [],
   "source": [
    "from sqlalchemy import * \n",
    "import json, ast, unittest, datetime, mediacloud"
   ]
  },
  {
   "cell_type": "code",
   "execution_count": 188,
   "metadata": {
    "collapsed": false
   },
   "outputs": [
    {
     "name": "stdout",
     "output_type": "stream",
     "text": [
      "Christmas\n",
      "Hell\n",
      "Pants on fire\n",
      "angry\n",
      "[{u'count': 59609}, {u'count': 21914}, {u'count': 7851027}, {u'count': 33117}]\n"
     ]
    }
   ],
   "source": [
    "mc = mediacloud.api.MediaCloud('0a65d2b3a0780cf15a40ca6914fe2dfeed17257e30b440c0ddffdfbc179635cd')\n",
    "\n",
    "wordSearch = ['Christmas','Hell','Pants on fire','angry' ]\n",
    "wordList = []\n",
    "for index in range(len(wordSearch)):\n",
    "    print wordSearch[index]\n",
    "    wordsM = mc.sentenceCount( wordSearch[index],  solr_filter=[mc.publish_date_query( datetime.date( 2016, 7, 1), datetime.date( 2016, 12, 12) ), 'tags_id_media:1' ] )\n",
    "    wordList.append(wordsM.copy())\n",
    "                \n",
    "print wordList"
   ]
  },
  {
   "cell_type": "markdown",
   "metadata": {},
   "source": [
    "## Basic SQL Generation\n",
    "The core library generates SQL for you.  Read more about it on their [expression language tutorial page](http://docs.sqlalchemy.org/en/rel_1_0/core/index.html). Below are some basic examples."
   ]
  },
  {
   "cell_type": "code",
   "execution_count": 187,
   "metadata": {
    "collapsed": false
   },
   "outputs": [
    {
     "name": "stdout",
     "output_type": "stream",
     "text": [
      "21914\n"
     ]
    }
   ],
   "source": [
    "\n",
    "num_Mentions1 =  wordList[1]['count']\n",
    "numMentStr1 = str(num_Mentions1)  \n",
    "\n",
    "print num_Mentions1\n"
   ]
  },
  {
   "cell_type": "markdown",
   "metadata": {},
   "source": [
    "### Creating a Table\n",
    "Read more about [defining and creating tables](http://docs.sqlalchemy.org/en/rel_1_0/core/tutorial.html#define-and-create-tables)."
   ]
  },
  {
   "cell_type": "code",
   "execution_count": 146,
   "metadata": {
    "collapsed": false
   },
   "outputs": [
    {
     "name": "stdout",
     "output_type": "stream",
     "text": [
      "2016-12-14 17:50:20,599 INFO sqlalchemy.engine.base.Engine SELECT CAST('test plain returns' AS VARCHAR(60)) AS anon_1\n",
      "2016-12-14 17:50:20,600 INFO sqlalchemy.engine.base.Engine ()\n",
      "2016-12-14 17:50:20,601 INFO sqlalchemy.engine.base.Engine SELECT CAST('test unicode returns' AS VARCHAR(60)) AS anon_1\n",
      "2016-12-14 17:50:20,601 INFO sqlalchemy.engine.base.Engine ()\n",
      "2016-12-14 17:50:20,602 INFO sqlalchemy.engine.base.Engine PRAGMA table_info(\"queries\")\n",
      "2016-12-14 17:50:20,603 INFO sqlalchemy.engine.base.Engine ()\n",
      "2016-12-14 17:50:20,604 INFO sqlalchemy.engine.base.Engine \n",
      "CREATE TABLE queries (\n",
      "\tid INTEGER NOT NULL, \n",
      "\tkeywords VARCHAR(400) NOT NULL, \n",
      "\tmentions INTEGER, \n",
      "\ttimestamp DATETIME, \n",
      "\tPRIMARY KEY (id)\n",
      ")\n",
      "\n",
      "\n",
      "2016-12-14 17:50:20,604 INFO sqlalchemy.engine.base.Engine ()\n",
      "2016-12-14 17:50:20,605 INFO sqlalchemy.engine.base.Engine COMMIT\n"
     ]
    }
   ],
   "source": [
    "\n",
    "# add `echo=True` to see log statements of all the SQL that is generated\n",
    "engine = create_engine('sqlite:///:memory:',echo=True) # just save the db in memory for now (ie. not on disk)\n",
    "metadata = MetaData()\n",
    "# define a table to use\n",
    "queries = Table('queries', metadata,\n",
    "    Column('id', Integer, primary_key=True),\n",
    "    Column('keywords', String(400), nullable=False),\n",
    "    Column('mentions', Integer,autoincrement=True),      \n",
    "    Column('timestamp', DateTime, default=datetime.datetime.now),\n",
    ")\n",
    "\n",
    "metadata.create_all(engine) # and create the tables in the database\n"
   ]
  },
  {
   "cell_type": "markdown",
   "metadata": {},
   "source": [
    "### Inserting Data\n",
    "Read more about generating [SQL insert statements](http://docs.sqlalchemy.org/en/rel_1_0/core/tutorial.html#insert-expressions)."
   ]
  },
  {
   "cell_type": "code",
   "execution_count": 147,
   "metadata": {
    "collapsed": false
   },
   "outputs": [
    {
     "data": {
      "text/plain": [
       "'INSERT INTO queries (id, keywords, mentions, timestamp) VALUES (:id, :keywords, :mentions, :timestamp)'"
      ]
     },
     "execution_count": 147,
     "metadata": {},
     "output_type": "execute_result"
    }
   ],
   "source": [
    "insert_stmt = queries.insert()\n",
    "str(insert_stmt) # see an example of what this will do"
   ]
  },
  {
   "cell_type": "code",
   "execution_count": 150,
   "metadata": {
    "collapsed": false,
    "scrolled": true
   },
   "outputs": [
    {
     "data": {
      "text/plain": [
       "'INSERT INTO queries (keywords, mentions, timestamp) VALUES (:keywords, :mentions, :timestamp)'"
      ]
     },
     "execution_count": 150,
     "metadata": {},
     "output_type": "execute_result"
    }
   ],
   "source": [
    "insert_stmt = queries.insert().values(keywords= wordSearch,mentions= num_Mentions) )\n",
    "str(insert_stmt)"
   ]
  },
  {
   "cell_type": "code",
   "execution_count": 151,
   "metadata": {
    "collapsed": false
   },
   "outputs": [
    {
     "name": "stdout",
     "output_type": "stream",
     "text": [
      "2016-12-14 17:51:10,132 INFO sqlalchemy.engine.base.Engine INSERT INTO queries (keywords, mentions, timestamp) VALUES (?, ?, ?)\n",
      "2016-12-14 17:51:10,133 INFO sqlalchemy.engine.base.Engine ('Christmas', 59609, '2016-12-14 17:51:10.132160')\n",
      "2016-12-14 17:51:10,134 INFO sqlalchemy.engine.base.Engine COMMIT\n"
     ]
    },
    {
     "data": {
      "text/plain": [
       "[2]"
      ]
     },
     "execution_count": 151,
     "metadata": {},
     "output_type": "execute_result"
    }
   ],
   "source": [
    "db_conn = engine.connect()\n",
    "result = db_conn.execute(insert_stmt)\n",
    "result.inserted_primary_key # print out the primary key it was assigned"
   ]
  },
  {
   "cell_type": "code",
   "execution_count": 152,
   "metadata": {
    "collapsed": false,
    "scrolled": true
   },
   "outputs": [
    {
     "data": {
      "text/plain": [
       "'INSERT INTO queries (keywords, mentions, timestamp) VALUES (:keywords, :mentions, :timestamp)'"
      ]
     },
     "execution_count": 152,
     "metadata": {},
     "output_type": "execute_result"
    }
   ],
   "source": [
    "insert_stmt = queries.insert().values(keywords= wordSearch2,mentions= num_Mentions2 )\n",
    "str(insert_stmt)"
   ]
  },
  {
   "cell_type": "code",
   "execution_count": 153,
   "metadata": {
    "collapsed": false,
    "scrolled": true
   },
   "outputs": [
    {
     "name": "stdout",
     "output_type": "stream",
     "text": [
      "2016-12-14 17:51:51,174 INFO sqlalchemy.engine.base.Engine INSERT INTO queries (keywords, mentions, timestamp) VALUES (?, ?, ?)\n",
      "2016-12-14 17:51:51,175 INFO sqlalchemy.engine.base.Engine ('Hell', 21914, '2016-12-14 17:51:51.174611')\n",
      "2016-12-14 17:51:51,176 INFO sqlalchemy.engine.base.Engine COMMIT\n"
     ]
    },
    {
     "data": {
      "text/plain": [
       "[3]"
      ]
     },
     "execution_count": 153,
     "metadata": {},
     "output_type": "execute_result"
    }
   ],
   "source": [
    "db_conn = engine.connect()\n",
    "result = db_conn.execute(insert_stmt)\n",
    "result.inserted_primary_key # print out the primary key it was assigned"
   ]
  },
  {
   "cell_type": "code",
   "execution_count": 189,
   "metadata": {
    "collapsed": false
   },
   "outputs": [
    {
     "name": "stdout",
     "output_type": "stream",
     "text": [
      "2016-12-14 18:34:34,152 INFO sqlalchemy.engine.base.Engine INSERT INTO queries (keywords, mentions, timestamp) VALUES (?, ?, ?)\n",
      "2016-12-14 18:34:34,153 INFO sqlalchemy.engine.base.Engine ('Christmas', 21914, '2016-12-14 18:34:34.152721')\n",
      "2016-12-14 18:34:34,154 INFO sqlalchemy.engine.base.Engine COMMIT\n",
      "2016-12-14 18:34:34,155 INFO sqlalchemy.engine.base.Engine INSERT INTO queries (keywords, mentions, timestamp) VALUES (?, ?, ?)\n",
      "2016-12-14 18:34:34,155 INFO sqlalchemy.engine.base.Engine ('Hell', 21914, '2016-12-14 18:34:34.155030')\n",
      "2016-12-14 18:34:34,156 INFO sqlalchemy.engine.base.Engine COMMIT\n",
      "2016-12-14 18:34:34,157 INFO sqlalchemy.engine.base.Engine INSERT INTO queries (keywords, mentions, timestamp) VALUES (?, ?, ?)\n",
      "2016-12-14 18:34:34,158 INFO sqlalchemy.engine.base.Engine ('Pants on fire', 21914, '2016-12-14 18:34:34.157561')\n",
      "2016-12-14 18:34:34,158 INFO sqlalchemy.engine.base.Engine COMMIT\n",
      "2016-12-14 18:34:34,159 INFO sqlalchemy.engine.base.Engine INSERT INTO queries (keywords, mentions, timestamp) VALUES (?, ?, ?)\n",
      "2016-12-14 18:34:34,160 INFO sqlalchemy.engine.base.Engine ('angry', 21914, '2016-12-14 18:34:34.159398')\n",
      "2016-12-14 18:34:34,161 INFO sqlalchemy.engine.base.Engine COMMIT\n"
     ]
    }
   ],
   "source": [
    "insert_stmt = queries.insert()\n",
    "str(insert_stmt) # see an example of what this will do\n",
    "for index in range(len(wordSearch)):\n",
    "    insert_stmt = queries.insert().values(keywords= wordSearch[index],mentions= wordList[1]['count'] )\n",
    "    str(insert_stmt)\n",
    "    db_conn = engine.connect()\n",
    "    result = db_conn.execute(insert_stmt)\n",
    "    result.inserted_primary_key # print out the primary key it was assigned"
   ]
  },
  {
   "cell_type": "code",
   "execution_count": 191,
   "metadata": {
    "collapsed": false
   },
   "outputs": [
    {
     "name": "stdout",
     "output_type": "stream",
     "text": [
      "2016-12-14 18:35:16,923 INFO sqlalchemy.engine.base.Engine INSERT INTO queries (keywords, mentions, timestamp) VALUES (?, ?, ?)\n",
      "2016-12-14 18:35:16,924 INFO sqlalchemy.engine.base.Engine ('angry', 21914, '2016-12-14 18:35:16.923765')\n",
      "2016-12-14 18:35:16,925 INFO sqlalchemy.engine.base.Engine COMMIT\n"
     ]
    }
   ],
   "source": [
    "result = db_conn.execute(insert_stmt)\n"
   ]
  },
  {
   "cell_type": "markdown",
   "metadata": {},
   "source": [
    "### Retrieving Data\n",
    "Read more about using [SQL select statments](http://docs.sqlalchemy.org/en/rel_1_0/core/tutorial.html#selecting)."
   ]
  },
  {
   "cell_type": "code",
   "execution_count": 192,
   "metadata": {
    "collapsed": false
   },
   "outputs": [
    {
     "name": "stdout",
     "output_type": "stream",
     "text": [
      "2016-12-14 18:35:32,360 INFO sqlalchemy.engine.base.Engine SELECT queries.id, queries.keywords, queries.mentions, queries.timestamp \n",
      "FROM queries\n",
      "2016-12-14 18:35:32,361 INFO sqlalchemy.engine.base.Engine ()\n",
      "59609\n",
      "59609\n",
      "21914\n",
      "21914\n",
      "21914\n",
      "21914\n",
      "21914\n",
      "21914\n"
     ]
    }
   ],
   "source": [
    "from sqlalchemy.sql import select\n",
    "select_stmt = select([queries])\n",
    "results = db_conn.execute(select_stmt)\n",
    "for row in results:\n",
    "    print row[2]"
   ]
  },
  {
   "cell_type": "code",
   "execution_count": 162,
   "metadata": {
    "collapsed": false,
    "scrolled": true
   },
   "outputs": [
    {
     "name": "stdout",
     "output_type": "stream",
     "text": [
      "2016-12-14 18:03:40,528 INFO sqlalchemy.engine.base.Engine SELECT queries.id, queries.keywords, queries.mentions, queries.timestamp \n",
      "FROM queries \n",
      "WHERE queries.id = ?\n",
      "2016-12-14 18:03:40,529 INFO sqlalchemy.engine.base.Engine (2,)\n",
      "(2, u'Christmas', 59609, datetime.datetime(2016, 12, 14, 17, 51, 10, 132160))\n"
     ]
    }
   ],
   "source": [
    "select_stmt = select([queries]).where(queries.c.id==2)\n",
    "for row in db_conn.execute(select_stmt):\n",
    "    print row"
   ]
  },
  {
   "cell_type": "code",
   "execution_count": 161,
   "metadata": {
    "collapsed": false
   },
   "outputs": [
    {
     "name": "stdout",
     "output_type": "stream",
     "text": [
      "2016-12-14 18:03:06,790 INFO sqlalchemy.engine.base.Engine SELECT queries.id, queries.keywords, queries.mentions, queries.timestamp \n",
      "FROM queries \n",
      "WHERE queries.keywords LIKE ?\n",
      "2016-12-14 18:03:06,790 INFO sqlalchemy.engine.base.Engine ('C%',)\n",
      "(2, u'Christmas', 59609, datetime.datetime(2016, 12, 14, 17, 51, 10, 132160))\n"
     ]
    }
   ],
   "source": [
    "select_stmt = select([queries]).where(queries.c.keywords.like('C%'))\n",
    "for row in db_conn.execute(select_stmt):\n",
    "    print row"
   ]
  },
  {
   "cell_type": "markdown",
   "metadata": {},
   "source": [
    "## ORM\n",
    "You can use their ORM library to handle the translation into full-fledged python objects.  This can help you build the Model for you [MVC](https://en.wikipedia.org/wiki/Model–view–controller) solution."
   ]
  },
  {
   "cell_type": "code",
   "execution_count": 84,
   "metadata": {
    "collapsed": false
   },
   "outputs": [],
   "source": [
    "import datetime\n",
    "from sqlalchemy import *\n",
    "from sqlalchemy.ext.declarative import declarative_base\n",
    "from sqlalchemy.orm import sessionmaker\n",
    "Base = declarative_base()"
   ]
  },
  {
   "cell_type": "markdown",
   "metadata": {},
   "source": [
    "### Creating a class mapping\n",
    "Read more about [creating a mapping](http://docs.sqlalchemy.org/en/rel_1_0/orm/tutorial.html#declare-a-mapping)."
   ]
  },
  {
   "cell_type": "code",
   "execution_count": 85,
   "metadata": {
    "collapsed": false
   },
   "outputs": [
    {
     "data": {
      "text/plain": [
       "Table('queries', MetaData(bind=None), Column('id', Integer(), table=<queries>, primary_key=True, nullable=False), Column('keywords', String(length=400), table=<queries>), Column('timestamp', DateTime(), table=<queries>, default=ColumnDefault(<function now at 0x1120d2938>)), schema=None)"
      ]
     },
     "execution_count": 85,
     "metadata": {},
     "output_type": "execute_result"
    }
   ],
   "source": [
    "class Query(Base):\n",
    "    __tablename__ = 'queries'\n",
    "    id = Column(Integer, primary_key=True)\n",
    "    keywords = Column(String(400))\n",
    "    timestamp = Column(DateTime,default=datetime.datetime.now)\n",
    "    def __repr__(self):\n",
    "        return \"<Query(keywords='%s')>\" % (self.keywords)\n",
    "Query.__table__"
   ]
  },
  {
   "cell_type": "markdown",
   "metadata": {},
   "source": [
    "### Creating a connection and session\n",
    "Read more about [creating this stuff](http://docs.sqlalchemy.org/en/rel_1_0/orm/tutorial.html#creating-a-session)."
   ]
  },
  {
   "cell_type": "code",
   "execution_count": null,
   "metadata": {
    "collapsed": true
   },
   "outputs": [],
   "source": [
    "engine = create_engine('sqlite:///:memory:') # just save the db in memory for now (ie. not on disk)\n",
    "Base.metadata.create_all(engine)\n",
    "Session = sessionmaker(bind=engine)\n",
    "my_session = Session()"
   ]
  },
  {
   "cell_type": "markdown",
   "metadata": {},
   "source": [
    "### Inserting Data\n",
    "Read more about [inserting data with an ORM](http://docs.sqlalchemy.org/en/rel_1_0/orm/tutorial.html#adding-new-objects)."
   ]
  },
  {
   "cell_type": "code",
   "execution_count": null,
   "metadata": {
    "collapsed": false
   },
   "outputs": [],
   "source": [
    "query = Query(keywords=\"iguana\")\n",
    "query.keywords"
   ]
  },
  {
   "cell_type": "code",
   "execution_count": null,
   "metadata": {
    "collapsed": false
   },
   "outputs": [],
   "source": [
    "my_session.add(query)\n",
    "my_session.commit()\n",
    "query.id"
   ]
  },
  {
   "cell_type": "markdown",
   "metadata": {},
   "source": [
    "### Retrieving Data\n",
    "Read more about [retrieving data from the db](http://docs.sqlalchemy.org/en/rel_1_0/orm/tutorial.html#querying) via an ORM class."
   ]
  },
  {
   "cell_type": "code",
   "execution_count": null,
   "metadata": {
    "collapsed": false
   },
   "outputs": [],
   "source": [
    "for q in my_session.query(Query).order_by(Query.timestamp):\n",
    "    print q"
   ]
  },
  {
   "cell_type": "code",
   "execution_count": null,
   "metadata": {
    "collapsed": true
   },
   "outputs": [],
   "source": [
    "query1 = Query(keywords=\"robot\")\n",
    "query2 = Query(keywords=\"puppy\")\n",
    "my_session.add_all([query1,query2])\n",
    "my_session.commit()"
   ]
  },
  {
   "cell_type": "code",
   "execution_count": null,
   "metadata": {
    "collapsed": false
   },
   "outputs": [],
   "source": [
    "for q in my_session.query(Query).order_by(Query.timestamp):\n",
    "    print q"
   ]
  },
  {
   "cell_type": "code",
   "execution_count": null,
   "metadata": {
    "collapsed": false
   },
   "outputs": [],
   "source": [
    "for q in my_session.query(Query).filter(Query.keywords.like('r%')):\n",
    "    print q"
   ]
  },
  {
   "cell_type": "code",
   "execution_count": null,
   "metadata": {
    "collapsed": true
   },
   "outputs": [],
   "source": []
  }
 ],
 "metadata": {
  "kernelspec": {
   "display_name": "Python 2",
   "language": "python",
   "name": "python2"
  },
  "language_info": {
   "codemirror_mode": {
    "name": "ipython",
    "version": 2
   },
   "file_extension": ".py",
   "mimetype": "text/x-python",
   "name": "python",
   "nbconvert_exporter": "python",
   "pygments_lexer": "ipython2",
   "version": "2.7.11"
  }
 },
 "nbformat": 4,
 "nbformat_minor": 0
}
