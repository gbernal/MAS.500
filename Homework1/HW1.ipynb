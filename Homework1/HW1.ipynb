{
 "cells": [
  {
   "cell_type": "code",
   "execution_count": 22,
   "metadata": {
    "collapsed": false
   },
   "outputs": [
    {
     "name": "stdout",
     "output_type": "stream",
     "text": [
      "1045\n",
      "1085\n",
      "In the month of September Trump was mentioned more then Clnton in the media\n"
     ]
    }
   ],
   "source": [
    "import mediacloud, datetime\n",
    "import json, ast \n",
    "\n",
    "mc = mediacloud.api.MediaCloud('API KEY')\n",
    "wordsC = mc.wordCount('( Clinton )',  solr_filter=[mc.publish_date_query( datetime.date( 2016, 7, 1), datetime.date( 2016, 8, 1) ), 'tags_id_media:1' ] )\n",
    "wordsT = mc.wordCount('( Trump )',  solr_filter=[mc.publish_date_query( datetime.date( 2016, 7, 1), datetime.date( 2016, 8, 1) ), 'tags_id_media:1' ] )\n",
    "\n",
    "wC= wordsC[0]  #prints the most common word\n",
    "dictC =  ast.literal_eval(json.dumps(wC))\n",
    "numClintMent = dictC['count']   \n",
    "print numClintMent\n",
    "\n",
    "\n",
    "wT= wordsT[0]  #prints the most common word\n",
    "dictT =  ast.literal_eval(json.dumps(wT))\n",
    "numTrumMent = dictT['count']  \n",
    "print numTrumMent\n",
    "\n",
    "if (numClintMent > numTrumMent):\n",
    "    \n",
    "    print \"In the month of September Clinton was mentioned more then Trump in the media\"\n",
    "    \n",
    "else:\n",
    "    \n",
    "    print \"In the month of September Trump was mentioned more then Clnton in the media\"\n"
   ]
  },
  {
   "cell_type": "code",
   "execution_count": null,
   "metadata": {
    "collapsed": true
   },
   "outputs": [],
   "source": []
  }
 ],
 "metadata": {
  "kernelspec": {
   "display_name": "Python 2",
   "language": "python",
   "name": "python2"
  },
  "language_info": {
   "codemirror_mode": {
    "name": "ipython",
    "version": 2
   },
   "file_extension": ".py",
   "mimetype": "text/x-python",
   "name": "python",
   "nbconvert_exporter": "python",
   "pygments_lexer": "ipython2",
   "version": "2.7.11"
  }
 },
 "nbformat": 4,
 "nbformat_minor": 1
}
